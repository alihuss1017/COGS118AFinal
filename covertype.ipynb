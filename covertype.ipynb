{
 "cells": [
  {
   "cell_type": "markdown",
   "metadata": {},
   "source": [
    "### Loading Dataset"
   ]
  },
  {
   "cell_type": "code",
   "execution_count": 142,
   "metadata": {},
   "outputs": [],
   "source": [
    "from ucimlrepo import fetch_ucirepo \n",
    "import pandas as pd\n",
    "import numpy as np\n",
    "  \n",
    "# fetch dataset \n",
    "covertype = fetch_ucirepo(id=31) "
   ]
  },
  {
   "cell_type": "code",
   "execution_count": 143,
   "metadata": {},
   "outputs": [],
   "source": [
    "# data (as pandas dataframes) \n",
    "X = covertype.data.features \n",
    "Y = covertype.data.targets "
   ]
  },
  {
   "cell_type": "markdown",
   "metadata": {},
   "source": [
    "### Creating Dataframe"
   ]
  },
  {
   "cell_type": "code",
   "execution_count": 144,
   "metadata": {},
   "outputs": [],
   "source": [
    "df = pd.concat([X, Y], axis = 1)\n",
    "df = df.sample(n = 50000, random_state = 42)"
   ]
  },
  {
   "cell_type": "code",
   "execution_count": 145,
   "metadata": {},
   "outputs": [
    {
     "data": {
      "text/plain": [
       "Cover_Type\n",
       "2    24299\n",
       "1    18401\n",
       "3     3082\n",
       "7     1737\n",
       "6     1463\n",
       "5      796\n",
       "4      222\n",
       "Name: count, dtype: int64"
      ]
     },
     "execution_count": 145,
     "metadata": {},
     "output_type": "execute_result"
    }
   ],
   "source": [
    "df['Cover_Type'].value_counts()"
   ]
  },
  {
   "cell_type": "markdown",
   "metadata": {},
   "source": [
    "### Feature Scaling"
   ]
  },
  {
   "cell_type": "code",
   "execution_count": 146,
   "metadata": {},
   "outputs": [],
   "source": [
    "from sklearn.preprocessing import StandardScaler, MinMaxScaler, MaxAbsScaler\n",
    "\n",
    "def stan_scaler():\n",
    "    scaler = StandardScaler()\n",
    "    for feature in df:\n",
    "        if feature == 'Cover_Type':\n",
    "            continue\n",
    "        else:\n",
    "            if ((df[feature] < 0).any() or (df[feature] > 1).any()):\n",
    "                df[feature] = scaler.fit_transform(df[[feature]])\n",
    "                df[feature] = scaler.fit_transform(df[[feature]])\n",
    "\n",
    "def mm_scaler():\n",
    "    scaler = MinMaxScaler()\n",
    "    for feature in df:\n",
    "        if feature == 'Cover_Type':\n",
    "            continue\n",
    "        else:\n",
    "            if ((df[feature] < 0).any() or (df[feature] > 1).any()):\n",
    "                df[feature] = scaler.fit_transform(df[[feature]])\n",
    "                df[feature] = scaler.fit_transform(df[[feature]])\n",
    "\n",
    "def abs_scaler():\n",
    "    scaler = MaxAbsScaler()\n",
    "    for feature in df:\n",
    "        if feature == 'Cover_Type':\n",
    "            continue\n",
    "        else:\n",
    "            if ((df[feature] < 0).any() or (df[feature] > 1).any()):\n",
    "                df[feature] = scaler.fit_transform(df[[feature]])\n",
    "                df[feature] = scaler.fit_transform(df[[feature]])"
   ]
  },
  {
   "cell_type": "code",
   "execution_count": 147,
   "metadata": {},
   "outputs": [],
   "source": [
    "mm_scaler()"
   ]
  },
  {
   "cell_type": "markdown",
   "metadata": {},
   "source": [
    "### Splitting Positive-Negative Labels"
   ]
  },
  {
   "cell_type": "code",
   "execution_count": 148,
   "metadata": {},
   "outputs": [],
   "source": [
    "df['Cover_Type'] = df['Cover_Type'].isin([1,2]).astype(int)"
   ]
  },
  {
   "cell_type": "markdown",
   "metadata": {},
   "source": [
    "### Finding correlated features with correlation matrix"
   ]
  },
  {
   "cell_type": "code",
   "execution_count": 149,
   "metadata": {},
   "outputs": [
    {
     "name": "stdout",
     "output_type": "stream",
     "text": [
      "Most Positively Correlated Features: ['Elevation', 'Horizontal_Distance_To_Roadways', 'Hillshade_Noon', 'Horizontal_Distance_To_Fire_Points', 'Wilderness_Area1', 'Soil_Type23', 'Soil_Type29', 'Soil_Type32', 'Cover_Type']\n",
      "Most Negatively Correlated Features: ['Slope', 'Soil_Type1', 'Soil_Type2', 'Soil_Type3', 'Soil_Type4', 'Soil_Type5', 'Soil_Type6', 'Soil_Type10', 'Soil_Type17', 'Soil_Type38', 'Soil_Type39', 'Wilderness_Area4']\n"
     ]
    }
   ],
   "source": [
    "corr_mtx = df.corr()\n",
    "print(f'Most Positively Correlated Features: {corr_mtx['Cover_Type'][corr_mtx['Cover_Type'] > 0.10].index.tolist()}')\n",
    "print(f'Most Negatively Correlated Features: {corr_mtx['Cover_Type'][corr_mtx['Cover_Type'] < -0.10].index.tolist()}')"
   ]
  },
  {
   "cell_type": "code",
   "execution_count": 150,
   "metadata": {},
   "outputs": [],
   "source": [
    "X = df.drop('Cover_Type', axis = 1)\n",
    "Y = df['Cover_Type']"
   ]
  },
  {
   "cell_type": "code",
   "execution_count": 151,
   "metadata": {},
   "outputs": [],
   "source": [
    "from sklearn.model_selection import train_test_split\n",
    "X_train, X_test, Y_train, Y_test = train_test_split(X, Y, test_size = 0.2, random_state = 42)\n",
    "X_train, X_val, Y_train, Y_val = train_test_split(X_train, Y_train, test_size = 0.25, random_state = 42)"
   ]
  },
  {
   "cell_type": "code",
   "execution_count": null,
   "metadata": {},
   "outputs": [
    {
     "name": "stdout",
     "output_type": "stream",
     "text": [
      "Model: SVC(kernel='linear', random_state=42)\n",
      " Training Accuracy: 0.9307333333333333\n",
      " Validation Accuracy: 0.9352\n",
      " Testing Accuracy: 0.9316\n",
      " Average: 0.9325111111111112\n",
      " \n",
      " FOR TESTING ONLY: \n",
      " Precision: 0.9466484268125855\n",
      " Recall: 0.9746478873239437\n",
      " f1Score: 0.9604441360166551\n",
      "\n",
      "Model: LogisticRegression(random_state=42)\n",
      " Training Accuracy: 0.9313\n",
      " Validation Accuracy: 0.9371\n",
      " Testing Accuracy: 0.9334\n",
      " Average: 0.9339333333333334\n",
      " \n",
      " FOR TESTING ONLY: \n",
      " Precision: 0.9480830670926518\n",
      " Recall: 0.9752347417840376\n",
      " f1Score: 0.9614672529507058\n",
      "\n",
      "Model: RandomForestClassifier(max_depth=5, random_state=42)\n",
      " Training Accuracy: 0.9189666666666667\n",
      " Validation Accuracy: 0.9222\n",
      " Testing Accuracy: 0.9183\n",
      " Average: 0.9198222222222222\n",
      " \n",
      " FOR TESTING ONLY: \n",
      " Precision: 0.9171450232860392\n",
      " Recall: 0.9938967136150235\n",
      " f1Score: 0.9539796090801554\n",
      "\n"
     ]
    }
   ],
   "source": [
    "from sklearn.svm import SVC\n",
    "from sklearn.linear_model import LogisticRegression\n",
    "from sklearn.ensemble import RandomForestClassifier\n",
    "from sklearn.metrics import accuracy_score, classification_report\n",
    "from sklearn.metrics import precision_score, recall_score\n",
    "\n",
    "\n",
    "models = [SVC(kernel = 'linear', random_state = 42), LogisticRegression(random_state = 42), RandomForestClassifier(n_estimators = 100, max_depth = 5, random_state = 42)]\n",
    "\n",
    "for model in models:\n",
    "    model.fit(X_train, Y_train)\n",
    "\n",
    "    Y_train_hat = model.predict(X_train)\n",
    "    Y_val_hat = model.predict(X_val)\n",
    "    Y_test_hat = model.predict(X_test)\n",
    "\n",
    "    train_acc = accuracy_score(Y_train, Y_train_hat)\n",
    "    val_acc = accuracy_score(Y_val, Y_val_hat)\n",
    "    test_acc = accuracy_score(Y_test, Y_test_hat)\n",
    "\n",
    "    print(f'''Model: {model}\\n Training Accuracy: {train_acc}\\n Validation Accuracy: {val_acc}\\n \n",
    "          Testing Accuracy: {test_acc}\\n Average: {(train_acc + val_acc + test_acc) / 3}''')\n",
    "    \n",
    "    precision = precision_score(Y_test, Y_test_hat)\n",
    "    recall = recall_score(Y_test, Y_test_hat)\n",
    "    f1Score = 2 * precision * recall / (precision + recall)\n",
    "\n",
    "    print(f' \\n FOR TESTING ONLY: \\n Precision: {precision}\\n Recall: {recall}\\n f1Score: {f1Score}\\n')"
   ]
  }
 ],
 "metadata": {
  "kernelspec": {
   "display_name": "cogs118a",
   "language": "python",
   "name": "python3"
  },
  "language_info": {
   "codemirror_mode": {
    "name": "ipython",
    "version": 3
   },
   "file_extension": ".py",
   "mimetype": "text/x-python",
   "name": "python",
   "nbconvert_exporter": "python",
   "pygments_lexer": "ipython3",
   "version": "3.12.7"
  },
  "orig_nbformat": 4
 },
 "nbformat": 4,
 "nbformat_minor": 2
}
