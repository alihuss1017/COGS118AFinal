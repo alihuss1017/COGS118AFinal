{
 "cells": [
  {
   "cell_type": "code",
   "execution_count": null,
   "metadata": {},
   "outputs": [],
   "source": [
    "from ucimlrepo import fetch_ucirepo \n",
    "  \n",
    "# fetch dataset \n",
    "musk_version_2 = fetch_ucirepo(id=75) \n",
    "  \n",
    "# data (as pandas dataframes) \n",
    "X = musk_version_2.data.features \n",
    "y = musk_version_2.data.targets \n",
    "  \n",
    "# metadata \n",
    "print(musk_version_2.metadata) \n",
    "  \n",
    "# variable information \n",
    "print(musk_version_2.variables) "
   ]
  },
  {
   "cell_type": "code",
   "execution_count": null,
   "metadata": {},
   "outputs": [],
   "source": []
  }
 ],
 "metadata": {
  "language_info": {
   "name": "python"
  },
  "orig_nbformat": 4
 },
 "nbformat": 4,
 "nbformat_minor": 2
}
